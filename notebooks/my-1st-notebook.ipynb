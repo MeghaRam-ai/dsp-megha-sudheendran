{
 "cells": [
  {
   "cell_type": "code",
   "execution_count": 6,
   "id": "1f02e6ea",
   "metadata": {},
   "outputs": [],
   "source": [
    "import numpy as np"
   ]
  },
  {
   "cell_type": "code",
   "execution_count": 11,
   "id": "d9b08e6a",
   "metadata": {},
   "outputs": [],
   "source": [
    "A= np.random.rand(10, 3)"
   ]
  },
  {
   "cell_type": "code",
   "execution_count": 13,
   "id": "f332caf4",
   "metadata": {},
   "outputs": [
    {
     "name": "stdout",
     "output_type": "stream",
     "text": [
      "[[0.06644749 0.77747092 0.81471861]\n",
      " [0.34551214 0.70531791 0.38881375]\n",
      " [0.30829854 0.02426456 0.08210699]\n",
      " [0.46612216 0.25643253 0.9258948 ]\n",
      " [0.34180925 0.72079841 0.84938074]\n",
      " [0.18606972 0.68498897 0.07580429]\n",
      " [0.14533852 0.37203453 0.23550883]\n",
      " [0.2086071  0.30967177 0.27333271]\n",
      " [0.06267611 0.32449563 0.72594543]\n",
      " [0.62513953 0.95205808 0.18155527]]\n"
     ]
    }
   ],
   "source": [
    "print(A)"
   ]
  },
  {
   "cell_type": "code",
   "execution_count": null,
   "id": "54db6e89",
   "metadata": {},
   "outputs": [],
   "source": []
  }
 ],
 "metadata": {
  "kernelspec": {
   "display_name": "Python 3 (ipykernel)",
   "language": "python",
   "name": "python3"
  },
  "language_info": {
   "codemirror_mode": {
    "name": "ipython",
    "version": 3
   },
   "file_extension": ".py",
   "mimetype": "text/x-python",
   "name": "python",
   "nbconvert_exporter": "python",
   "pygments_lexer": "ipython3",
   "version": "3.9.7"
  }
 },
 "nbformat": 4,
 "nbformat_minor": 5
}
