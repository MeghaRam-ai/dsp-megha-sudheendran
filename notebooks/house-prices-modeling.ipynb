{
 "cells": [
  {
   "cell_type": "code",
   "execution_count": 1,
   "id": "e117b02b",
   "metadata": {},
   "outputs": [],
   "source": [
    "import pandas as pd\n",
    "import numpy as np\n",
    "# plotting modules\n",
    "import seaborn as sns\n",
    "import matplotlib.pyplot as plt\n",
    "import statsmodels.api as sm\n",
    "# for Box-Cox Transformation\n",
    "from scipy import stats\n",
    "# for min_max scaling\n",
    "from mlxtend.preprocessing import minmax_scaling\n",
    "\n"
   ]
  },
  {
   "cell_type": "markdown",
   "id": "2148372c",
   "metadata": {},
   "source": [
    "## Data Loading"
   ]
  },
  {
   "cell_type": "code",
   "execution_count": 5,
   "id": "e308453c",
   "metadata": {},
   "outputs": [
    {
     "name": "stdout",
     "output_type": "stream",
     "text": [
      "(1460, 81)\n",
      "(1459, 80)\n",
      "(1459, 2)\n"
     ]
    }
   ],
   "source": [
    "train_df = pd.read_csv(\"/Users/meghas/EPITA/S2/gitandVersioning/dsp-megha-sudheendran/data/train.csv\")\n",
    "test_X = pd.read_csv(\"/Users/meghas/EPITA/S2/gitandVersioning/dsp-megha-sudheendran/data/test.csv\")\n",
    "test_y = pd.read_csv(\"/Users/meghas/EPITA/S2/gitandVersioning/dsp-megha-sudheendran/data/sample_submission.csv\")\n",
    "\n",
    "print(train_df.shape)\n",
    "print(test_X.shape)\n",
    "print(test_y.shape)"
   ]
  },
  {
   "cell_type": "code",
   "execution_count": 6,
   "id": "92d3c88a",
   "metadata": {},
   "outputs": [
    {
     "name": "stdout",
     "output_type": "stream",
     "text": [
      "   Id  MSSubClass MSZoning  LotFrontage  LotArea Street Alley LotShape  \\\n",
      "0   1          60       RL         65.0     8450   Pave   NaN      Reg   \n",
      "1   2          20       RL         80.0     9600   Pave   NaN      Reg   \n",
      "2   3          60       RL         68.0    11250   Pave   NaN      IR1   \n",
      "3   4          70       RL         60.0     9550   Pave   NaN      IR1   \n",
      "4   5          60       RL         84.0    14260   Pave   NaN      IR1   \n",
      "\n",
      "  LandContour Utilities  ... PoolArea PoolQC Fence MiscFeature MiscVal MoSold  \\\n",
      "0         Lvl    AllPub  ...        0    NaN   NaN         NaN       0      2   \n",
      "1         Lvl    AllPub  ...        0    NaN   NaN         NaN       0      5   \n",
      "2         Lvl    AllPub  ...        0    NaN   NaN         NaN       0      9   \n",
      "3         Lvl    AllPub  ...        0    NaN   NaN         NaN       0      2   \n",
      "4         Lvl    AllPub  ...        0    NaN   NaN         NaN       0     12   \n",
      "\n",
      "  YrSold  SaleType  SaleCondition  SalePrice  \n",
      "0   2008        WD         Normal     208500  \n",
      "1   2007        WD         Normal     181500  \n",
      "2   2008        WD         Normal     223500  \n",
      "3   2006        WD        Abnorml     140000  \n",
      "4   2008        WD         Normal     250000  \n",
      "\n",
      "[5 rows x 81 columns]\n"
     ]
    }
   ],
   "source": [
    "print(train_df.head(5))"
   ]
  },
  {
   "cell_type": "markdown",
   "id": "ac141fa7",
   "metadata": {},
   "source": [
    "## Analysing the dataset "
   ]
  },
  {
   "cell_type": "code",
   "execution_count": 7,
   "id": "77faa89e",
   "metadata": {},
   "outputs": [],
   "source": [
    "# how many total missing values do we have?\n",
    "def missingValues(df):\n",
    "    missing_values_count = df.isnull().sum()\n",
    "\n",
    "    total_cells = np.product(df.shape)\n",
    "    total_missing = missing_values_count.sum()\n",
    "\n",
    "    # percent of data that is missing\n",
    "    percent_missing = (total_missing/total_cells) * 100\n",
    "    print('percent_missing : ',percent_missing,\"%\")\n",
    "    print('missing_values_count : ',missing_values_count)"
   ]
  },
  {
   "cell_type": "code",
   "execution_count": 8,
   "id": "d9cbd558",
   "metadata": {},
   "outputs": [
    {
     "name": "stdout",
     "output_type": "stream",
     "text": [
      "percent_missing :  5.889565364451209 %\n",
      "missing_values_count :  Id                 0\n",
      "MSSubClass         0\n",
      "MSZoning           0\n",
      "LotFrontage      259\n",
      "LotArea            0\n",
      "                ... \n",
      "MoSold             0\n",
      "YrSold             0\n",
      "SaleType           0\n",
      "SaleCondition      0\n",
      "SalePrice          0\n",
      "Length: 81, dtype: int64\n"
     ]
    }
   ],
   "source": [
    "missingValues(train_df)"
   ]
  },
  {
   "cell_type": "markdown",
   "id": "eb57eeba",
   "metadata": {},
   "source": [
    "## Data preprocessing"
   ]
  },
  {
   "cell_type": "markdown",
   "id": "2a90c762",
   "metadata": {},
   "source": [
    "### Based on the missing value count, we can eliminate few colums\n",
    "- Id -> no effect on target\n",
    "- Alley -> 93% missing values\n",
    "- LotFrontage -> 17% missing values\n",
    "- FireplaceQu -> 47 % missing values\n",
    "- GarageType-> missing values\n",
    "\n",
    "\n",
    "\n",
    "### Based on the covariance, we can eliminate few colums\n",
    "\n",
    "- YrSold -> 0 covariance\n",
    "- Utilities-> 0.005 covariance\n",
    "- Street -> 0.02\n",
    "- Condition2 ->0.07\n",
    "- RoofMatl -> 0.116"
   ]
  },
  {
   "cell_type": "code",
   "execution_count": 9,
   "id": "7767bcb7",
   "metadata": {},
   "outputs": [],
   "source": [
    "\n",
    "train_df = train_df.drop(['GarageType','Street','Condition2','MasVnrType','RoofMatl','Id', 'Alley','LotFrontage','FireplaceQu','YrSold','Utilities'], axis=1)\n"
   ]
  },
  {
   "cell_type": "code",
   "execution_count": 10,
   "id": "1693e745",
   "metadata": {},
   "outputs": [
    {
     "data": {
      "text/html": [
       "<div>\n",
       "<style scoped>\n",
       "    .dataframe tbody tr th:only-of-type {\n",
       "        vertical-align: middle;\n",
       "    }\n",
       "\n",
       "    .dataframe tbody tr th {\n",
       "        vertical-align: top;\n",
       "    }\n",
       "\n",
       "    .dataframe thead th {\n",
       "        text-align: right;\n",
       "    }\n",
       "</style>\n",
       "<table border=\"1\" class=\"dataframe\">\n",
       "  <thead>\n",
       "    <tr style=\"text-align: right;\">\n",
       "      <th></th>\n",
       "      <th>MSSubClass</th>\n",
       "      <th>LotArea</th>\n",
       "      <th>OverallQual</th>\n",
       "      <th>OverallCond</th>\n",
       "      <th>YearBuilt</th>\n",
       "      <th>YearRemodAdd</th>\n",
       "      <th>MasVnrArea</th>\n",
       "      <th>BsmtFinSF1</th>\n",
       "      <th>BsmtFinSF2</th>\n",
       "      <th>BsmtUnfSF</th>\n",
       "      <th>...</th>\n",
       "      <th>GarageArea</th>\n",
       "      <th>WoodDeckSF</th>\n",
       "      <th>OpenPorchSF</th>\n",
       "      <th>EnclosedPorch</th>\n",
       "      <th>3SsnPorch</th>\n",
       "      <th>ScreenPorch</th>\n",
       "      <th>PoolArea</th>\n",
       "      <th>MiscVal</th>\n",
       "      <th>MoSold</th>\n",
       "      <th>SalePrice</th>\n",
       "    </tr>\n",
       "  </thead>\n",
       "  <tbody>\n",
       "    <tr>\n",
       "      <th>count</th>\n",
       "      <td>1460.000000</td>\n",
       "      <td>1460.000000</td>\n",
       "      <td>1460.000000</td>\n",
       "      <td>1460.000000</td>\n",
       "      <td>1460.000000</td>\n",
       "      <td>1460.000000</td>\n",
       "      <td>1452.000000</td>\n",
       "      <td>1460.000000</td>\n",
       "      <td>1460.000000</td>\n",
       "      <td>1460.000000</td>\n",
       "      <td>...</td>\n",
       "      <td>1460.000000</td>\n",
       "      <td>1460.000000</td>\n",
       "      <td>1460.000000</td>\n",
       "      <td>1460.000000</td>\n",
       "      <td>1460.000000</td>\n",
       "      <td>1460.000000</td>\n",
       "      <td>1460.000000</td>\n",
       "      <td>1460.000000</td>\n",
       "      <td>1460.000000</td>\n",
       "      <td>1460.000000</td>\n",
       "    </tr>\n",
       "    <tr>\n",
       "      <th>mean</th>\n",
       "      <td>56.897260</td>\n",
       "      <td>10516.828082</td>\n",
       "      <td>6.099315</td>\n",
       "      <td>5.575342</td>\n",
       "      <td>1971.267808</td>\n",
       "      <td>1984.865753</td>\n",
       "      <td>103.685262</td>\n",
       "      <td>443.639726</td>\n",
       "      <td>46.549315</td>\n",
       "      <td>567.240411</td>\n",
       "      <td>...</td>\n",
       "      <td>472.980137</td>\n",
       "      <td>94.244521</td>\n",
       "      <td>46.660274</td>\n",
       "      <td>21.954110</td>\n",
       "      <td>3.409589</td>\n",
       "      <td>15.060959</td>\n",
       "      <td>2.758904</td>\n",
       "      <td>43.489041</td>\n",
       "      <td>6.321918</td>\n",
       "      <td>180921.195890</td>\n",
       "    </tr>\n",
       "    <tr>\n",
       "      <th>std</th>\n",
       "      <td>42.300571</td>\n",
       "      <td>9981.264932</td>\n",
       "      <td>1.382997</td>\n",
       "      <td>1.112799</td>\n",
       "      <td>30.202904</td>\n",
       "      <td>20.645407</td>\n",
       "      <td>181.066207</td>\n",
       "      <td>456.098091</td>\n",
       "      <td>161.319273</td>\n",
       "      <td>441.866955</td>\n",
       "      <td>...</td>\n",
       "      <td>213.804841</td>\n",
       "      <td>125.338794</td>\n",
       "      <td>66.256028</td>\n",
       "      <td>61.119149</td>\n",
       "      <td>29.317331</td>\n",
       "      <td>55.757415</td>\n",
       "      <td>40.177307</td>\n",
       "      <td>496.123024</td>\n",
       "      <td>2.703626</td>\n",
       "      <td>79442.502883</td>\n",
       "    </tr>\n",
       "    <tr>\n",
       "      <th>min</th>\n",
       "      <td>20.000000</td>\n",
       "      <td>1300.000000</td>\n",
       "      <td>1.000000</td>\n",
       "      <td>1.000000</td>\n",
       "      <td>1872.000000</td>\n",
       "      <td>1950.000000</td>\n",
       "      <td>0.000000</td>\n",
       "      <td>0.000000</td>\n",
       "      <td>0.000000</td>\n",
       "      <td>0.000000</td>\n",
       "      <td>...</td>\n",
       "      <td>0.000000</td>\n",
       "      <td>0.000000</td>\n",
       "      <td>0.000000</td>\n",
       "      <td>0.000000</td>\n",
       "      <td>0.000000</td>\n",
       "      <td>0.000000</td>\n",
       "      <td>0.000000</td>\n",
       "      <td>0.000000</td>\n",
       "      <td>1.000000</td>\n",
       "      <td>34900.000000</td>\n",
       "    </tr>\n",
       "    <tr>\n",
       "      <th>25%</th>\n",
       "      <td>20.000000</td>\n",
       "      <td>7553.500000</td>\n",
       "      <td>5.000000</td>\n",
       "      <td>5.000000</td>\n",
       "      <td>1954.000000</td>\n",
       "      <td>1967.000000</td>\n",
       "      <td>0.000000</td>\n",
       "      <td>0.000000</td>\n",
       "      <td>0.000000</td>\n",
       "      <td>223.000000</td>\n",
       "      <td>...</td>\n",
       "      <td>334.500000</td>\n",
       "      <td>0.000000</td>\n",
       "      <td>0.000000</td>\n",
       "      <td>0.000000</td>\n",
       "      <td>0.000000</td>\n",
       "      <td>0.000000</td>\n",
       "      <td>0.000000</td>\n",
       "      <td>0.000000</td>\n",
       "      <td>5.000000</td>\n",
       "      <td>129975.000000</td>\n",
       "    </tr>\n",
       "    <tr>\n",
       "      <th>50%</th>\n",
       "      <td>50.000000</td>\n",
       "      <td>9478.500000</td>\n",
       "      <td>6.000000</td>\n",
       "      <td>5.000000</td>\n",
       "      <td>1973.000000</td>\n",
       "      <td>1994.000000</td>\n",
       "      <td>0.000000</td>\n",
       "      <td>383.500000</td>\n",
       "      <td>0.000000</td>\n",
       "      <td>477.500000</td>\n",
       "      <td>...</td>\n",
       "      <td>480.000000</td>\n",
       "      <td>0.000000</td>\n",
       "      <td>25.000000</td>\n",
       "      <td>0.000000</td>\n",
       "      <td>0.000000</td>\n",
       "      <td>0.000000</td>\n",
       "      <td>0.000000</td>\n",
       "      <td>0.000000</td>\n",
       "      <td>6.000000</td>\n",
       "      <td>163000.000000</td>\n",
       "    </tr>\n",
       "    <tr>\n",
       "      <th>75%</th>\n",
       "      <td>70.000000</td>\n",
       "      <td>11601.500000</td>\n",
       "      <td>7.000000</td>\n",
       "      <td>6.000000</td>\n",
       "      <td>2000.000000</td>\n",
       "      <td>2004.000000</td>\n",
       "      <td>166.000000</td>\n",
       "      <td>712.250000</td>\n",
       "      <td>0.000000</td>\n",
       "      <td>808.000000</td>\n",
       "      <td>...</td>\n",
       "      <td>576.000000</td>\n",
       "      <td>168.000000</td>\n",
       "      <td>68.000000</td>\n",
       "      <td>0.000000</td>\n",
       "      <td>0.000000</td>\n",
       "      <td>0.000000</td>\n",
       "      <td>0.000000</td>\n",
       "      <td>0.000000</td>\n",
       "      <td>8.000000</td>\n",
       "      <td>214000.000000</td>\n",
       "    </tr>\n",
       "    <tr>\n",
       "      <th>max</th>\n",
       "      <td>190.000000</td>\n",
       "      <td>215245.000000</td>\n",
       "      <td>10.000000</td>\n",
       "      <td>9.000000</td>\n",
       "      <td>2010.000000</td>\n",
       "      <td>2010.000000</td>\n",
       "      <td>1600.000000</td>\n",
       "      <td>5644.000000</td>\n",
       "      <td>1474.000000</td>\n",
       "      <td>2336.000000</td>\n",
       "      <td>...</td>\n",
       "      <td>1418.000000</td>\n",
       "      <td>857.000000</td>\n",
       "      <td>547.000000</td>\n",
       "      <td>552.000000</td>\n",
       "      <td>508.000000</td>\n",
       "      <td>480.000000</td>\n",
       "      <td>738.000000</td>\n",
       "      <td>15500.000000</td>\n",
       "      <td>12.000000</td>\n",
       "      <td>755000.000000</td>\n",
       "    </tr>\n",
       "  </tbody>\n",
       "</table>\n",
       "<p>8 rows × 35 columns</p>\n",
       "</div>"
      ],
      "text/plain": [
       "        MSSubClass        LotArea  OverallQual  OverallCond    YearBuilt  \\\n",
       "count  1460.000000    1460.000000  1460.000000  1460.000000  1460.000000   \n",
       "mean     56.897260   10516.828082     6.099315     5.575342  1971.267808   \n",
       "std      42.300571    9981.264932     1.382997     1.112799    30.202904   \n",
       "min      20.000000    1300.000000     1.000000     1.000000  1872.000000   \n",
       "25%      20.000000    7553.500000     5.000000     5.000000  1954.000000   \n",
       "50%      50.000000    9478.500000     6.000000     5.000000  1973.000000   \n",
       "75%      70.000000   11601.500000     7.000000     6.000000  2000.000000   \n",
       "max     190.000000  215245.000000    10.000000     9.000000  2010.000000   \n",
       "\n",
       "       YearRemodAdd   MasVnrArea   BsmtFinSF1   BsmtFinSF2    BsmtUnfSF  ...  \\\n",
       "count   1460.000000  1452.000000  1460.000000  1460.000000  1460.000000  ...   \n",
       "mean    1984.865753   103.685262   443.639726    46.549315   567.240411  ...   \n",
       "std       20.645407   181.066207   456.098091   161.319273   441.866955  ...   \n",
       "min     1950.000000     0.000000     0.000000     0.000000     0.000000  ...   \n",
       "25%     1967.000000     0.000000     0.000000     0.000000   223.000000  ...   \n",
       "50%     1994.000000     0.000000   383.500000     0.000000   477.500000  ...   \n",
       "75%     2004.000000   166.000000   712.250000     0.000000   808.000000  ...   \n",
       "max     2010.000000  1600.000000  5644.000000  1474.000000  2336.000000  ...   \n",
       "\n",
       "        GarageArea   WoodDeckSF  OpenPorchSF  EnclosedPorch    3SsnPorch  \\\n",
       "count  1460.000000  1460.000000  1460.000000    1460.000000  1460.000000   \n",
       "mean    472.980137    94.244521    46.660274      21.954110     3.409589   \n",
       "std     213.804841   125.338794    66.256028      61.119149    29.317331   \n",
       "min       0.000000     0.000000     0.000000       0.000000     0.000000   \n",
       "25%     334.500000     0.000000     0.000000       0.000000     0.000000   \n",
       "50%     480.000000     0.000000    25.000000       0.000000     0.000000   \n",
       "75%     576.000000   168.000000    68.000000       0.000000     0.000000   \n",
       "max    1418.000000   857.000000   547.000000     552.000000   508.000000   \n",
       "\n",
       "       ScreenPorch     PoolArea       MiscVal       MoSold      SalePrice  \n",
       "count  1460.000000  1460.000000   1460.000000  1460.000000    1460.000000  \n",
       "mean     15.060959     2.758904     43.489041     6.321918  180921.195890  \n",
       "std      55.757415    40.177307    496.123024     2.703626   79442.502883  \n",
       "min       0.000000     0.000000      0.000000     1.000000   34900.000000  \n",
       "25%       0.000000     0.000000      0.000000     5.000000  129975.000000  \n",
       "50%       0.000000     0.000000      0.000000     6.000000  163000.000000  \n",
       "75%       0.000000     0.000000      0.000000     8.000000  214000.000000  \n",
       "max     480.000000   738.000000  15500.000000    12.000000  755000.000000  \n",
       "\n",
       "[8 rows x 35 columns]"
      ]
     },
     "execution_count": 10,
     "metadata": {},
     "output_type": "execute_result"
    }
   ],
   "source": [
    "train_df.describe()"
   ]
  },
  {
   "cell_type": "code",
   "execution_count": 11,
   "id": "558b8986",
   "metadata": {},
   "outputs": [
    {
     "name": "stdout",
     "output_type": "stream",
     "text": [
      "percent_missing :  4.459882583170254 %\n",
      "missing_values_count :  MSSubClass       0\n",
      "MSZoning         0\n",
      "LotArea          0\n",
      "LotShape         0\n",
      "LandContour      0\n",
      "                ..\n",
      "MiscVal          0\n",
      "MoSold           0\n",
      "SaleType         0\n",
      "SaleCondition    0\n",
      "SalePrice        0\n",
      "Length: 70, dtype: int64\n"
     ]
    }
   ],
   "source": [
    "missingValues(train_df)"
   ]
  },
  {
   "cell_type": "code",
   "execution_count": 12,
   "id": "1c3668c0",
   "metadata": {},
   "outputs": [
    {
     "data": {
      "text/plain": [
       "HouseStyle       0\n",
       "OverallQual      0\n",
       "OverallCond      0\n",
       "YearBuilt        0\n",
       "YearRemodAdd     0\n",
       "RoofStyle        0\n",
       "Exterior1st      0\n",
       "Exterior2nd      0\n",
       "MasVnrArea       8\n",
       "ExterQual        0\n",
       "ExterCond        0\n",
       "Foundation       0\n",
       "BsmtQual        37\n",
       "BsmtCond        37\n",
       "BsmtExposure    38\n",
       "BsmtFinType1    37\n",
       "BsmtFinSF1       0\n",
       "BsmtFinType2    38\n",
       "BsmtFinSF2       0\n",
       "BsmtUnfSF        0\n",
       "dtype: int64"
      ]
     },
     "execution_count": 12,
     "metadata": {},
     "output_type": "execute_result"
    }
   ],
   "source": [
    "train_df.isnull().sum()[10:30]"
   ]
  },
  {
   "cell_type": "markdown",
   "id": "e6325439",
   "metadata": {},
   "source": [
    "### Find the most occuring value to fill in null "
   ]
  },
  {
   "cell_type": "code",
   "execution_count": 13,
   "id": "45e5b6a8",
   "metadata": {},
   "outputs": [
    {
     "name": "stdout",
     "output_type": "stream",
     "text": [
      "SBrkr\n",
      "TA\n",
      "TA\n",
      "No\n",
      "Unf\n",
      "Unf\n",
      "0.0\n"
     ]
    }
   ],
   "source": [
    "\n",
    "print(train_df['Electrical'].value_counts().idxmax())\n",
    "print(train_df['BsmtQual'].value_counts().idxmax())\n",
    "print(train_df['BsmtCond'].value_counts().idxmax())\n",
    "print(train_df['BsmtExposure'].value_counts().idxmax())\n",
    "print(train_df['BsmtFinType1'].value_counts().idxmax())\n",
    "print(train_df['BsmtFinType2'].value_counts().idxmax())\n",
    "print(train_df['MasVnrArea'].value_counts().idxmax())\n",
    "\n",
    "train_df['Electrical'].fillna(train_df['Electrical'].value_counts().idxmax(), inplace=True)\n",
    "train_df['BsmtQual'].fillna(train_df['BsmtQual'].value_counts().idxmax(), inplace=True)\n",
    "train_df['BsmtCond'].fillna(train_df['BsmtCond'].value_counts().idxmax(), inplace=True)\n",
    "train_df['BsmtExposure'].fillna(train_df['BsmtExposure'].value_counts().idxmax(), inplace=True)\n",
    "train_df['BsmtFinType1'].fillna(train_df['BsmtFinType1'].value_counts().idxmax(), inplace=True)\n",
    "train_df['BsmtFinType2'].fillna(train_df['BsmtFinType2'].value_counts().idxmax(), inplace=True)\n",
    "train_df['MasVnrArea'].fillna(train_df['MasVnrArea'].value_counts().idxmax(), inplace=True)\n",
    "\n"
   ]
  },
  {
   "cell_type": "markdown",
   "id": "e6be3431",
   "metadata": {},
   "source": [
    "### Converting the categorical values to numerical"
   ]
  },
  {
   "cell_type": "code",
   "execution_count": 14,
   "id": "31ba1723",
   "metadata": {},
   "outputs": [
    {
     "name": "stdout",
     "output_type": "stream",
     "text": [
      "Numerical colims:  ['MSSubClass', 'LotArea', 'OverallQual', 'OverallCond', 'YearBuilt', 'YearRemodAdd', 'MasVnrArea', 'BsmtFinSF1', 'BsmtFinSF2', 'BsmtUnfSF', 'TotalBsmtSF', '1stFlrSF', '2ndFlrSF', 'LowQualFinSF', 'GrLivArea', 'BsmtFullBath', 'BsmtHalfBath', 'FullBath', 'HalfBath', 'BedroomAbvGr', 'KitchenAbvGr', 'TotRmsAbvGrd', 'Fireplaces', 'GarageYrBlt', 'GarageCars', 'GarageArea', 'WoodDeckSF', 'OpenPorchSF', 'EnclosedPorch', '3SsnPorch', 'ScreenPorch', 'PoolArea', 'MiscVal', 'MoSold', 'SalePrice']\n",
      "\n",
      "Categorical_colums:  ['BsmtCond', 'HouseStyle', 'ExterCond', 'SaleType', 'LandSlope', 'ExterQual', 'Functional', 'SaleCondition', 'Electrical', 'Exterior2nd', 'LotConfig', 'LotShape', 'BsmtExposure', 'PoolQC', 'BldgType', 'GarageFinish', 'BsmtQual', 'MiscFeature', 'Fence', 'LandContour', 'Condition1', 'Heating', 'Exterior1st', 'Foundation', 'MSZoning', 'RoofStyle', 'GarageQual', 'HeatingQC', 'CentralAir', 'BsmtFinType2', 'GarageCond', 'Neighborhood', 'KitchenQual', 'BsmtFinType1', 'PavedDrive']\n"
     ]
    }
   ],
   "source": [
    "print('Numerical colims: ',list(train_df._get_numeric_data().columns))\n",
    "categorical_colums = list(set(train_df.columns)-set(train_df._get_numeric_data().columns))\n",
    "print('\\nCategorical_colums: ',categorical_colums)\n"
   ]
  },
  {
   "cell_type": "code",
   "execution_count": 15,
   "id": "e638c52e",
   "metadata": {},
   "outputs": [],
   "source": [
    "# converting categorical values to numerical\n",
    "\n",
    "from sklearn.preprocessing import OrdinalEncoder\n",
    "enc = OrdinalEncoder()\n",
    "train_df[categorical_colums] = enc.fit_transform(train_df[categorical_colums])\n"
   ]
  },
  {
   "cell_type": "code",
   "execution_count": 16,
   "id": "1079f106",
   "metadata": {},
   "outputs": [
    {
     "name": "stdout",
     "output_type": "stream",
     "text": [
      "Numerical colims:  ['MSSubClass', 'MSZoning', 'LotArea', 'LotShape', 'LandContour', 'LotConfig', 'LandSlope', 'Neighborhood', 'Condition1', 'BldgType', 'HouseStyle', 'OverallQual', 'OverallCond', 'YearBuilt', 'YearRemodAdd', 'RoofStyle', 'Exterior1st', 'Exterior2nd', 'MasVnrArea', 'ExterQual', 'ExterCond', 'Foundation', 'BsmtQual', 'BsmtCond', 'BsmtExposure', 'BsmtFinType1', 'BsmtFinSF1', 'BsmtFinType2', 'BsmtFinSF2', 'BsmtUnfSF', 'TotalBsmtSF', 'Heating', 'HeatingQC', 'CentralAir', 'Electrical', '1stFlrSF', '2ndFlrSF', 'LowQualFinSF', 'GrLivArea', 'BsmtFullBath', 'BsmtHalfBath', 'FullBath', 'HalfBath', 'BedroomAbvGr', 'KitchenAbvGr', 'KitchenQual', 'TotRmsAbvGrd', 'Functional', 'Fireplaces', 'GarageYrBlt', 'GarageFinish', 'GarageCars', 'GarageArea', 'GarageQual', 'GarageCond', 'PavedDrive', 'WoodDeckSF', 'OpenPorchSF', 'EnclosedPorch', '3SsnPorch', 'ScreenPorch', 'PoolArea', 'PoolQC', 'Fence', 'MiscFeature', 'MiscVal', 'MoSold', 'SaleType', 'SaleCondition', 'SalePrice']\n",
      "\n",
      "Categorical_colums:  []\n"
     ]
    }
   ],
   "source": [
    "print('Numerical colims: ',list(train_df._get_numeric_data().columns))\n",
    "categorical_colums = list(set(train_df.columns)-set(train_df._get_numeric_data().columns))\n",
    "print('\\nCategorical_colums: ',categorical_colums)\n",
    "\n"
   ]
  },
  {
   "cell_type": "markdown",
   "id": "076fcde1",
   "metadata": {},
   "source": [
    "## Finding the correlation of different colum to 'SalePrice'"
   ]
  },
  {
   "cell_type": "code",
   "execution_count": 17,
   "id": "2665e43d",
   "metadata": {},
   "outputs": [
    {
     "data": {
      "text/plain": [
       "MSSubClass      -0.084284\n",
       "MSZoning        -0.166872\n",
       "LotShape        -0.255580\n",
       "LandContour      0.015453\n",
       "LotConfig       -0.067396\n",
       "LandSlope        0.051152\n",
       "Neighborhood     0.210851\n",
       "Condition1       0.091155\n",
       "BldgType        -0.085591\n",
       "HouseStyle       0.180163\n",
       "OverallCond     -0.077856\n",
       "RoofStyle        0.222405\n",
       "Exterior1st      0.103551\n",
       "Exterior2nd      0.103766\n",
       "ExterQual       -0.636884\n",
       "ExterCond        0.117303\n",
       "BsmtQual        -0.618025\n",
       "BsmtCond         0.052563\n",
       "BsmtExposure    -0.295407\n",
       "BsmtFinType1    -0.092106\n",
       "BsmtFinType2     0.033235\n",
       "BsmtFinSF2      -0.011378\n",
       "BsmtUnfSF        0.214479\n",
       "Heating         -0.098812\n",
       "HeatingQC       -0.400178\n",
       "Electrical       0.234945\n",
       "LowQualFinSF    -0.025606\n",
       "BsmtFullBath     0.227122\n",
       "BsmtHalfBath    -0.016844\n",
       "BedroomAbvGr     0.168213\n",
       "KitchenAbvGr    -0.135907\n",
       "KitchenQual     -0.589189\n",
       "Functional       0.115328\n",
       "GarageFinish    -0.513105\n",
       "GarageQual       0.115119\n",
       "GarageCond       0.150576\n",
       "PavedDrive       0.231357\n",
       "EnclosedPorch   -0.128578\n",
       "3SsnPorch        0.044584\n",
       "ScreenPorch      0.111447\n",
       "PoolArea         0.092404\n",
       "PoolQC          -0.595229\n",
       "Fence           -0.172999\n",
       "MiscFeature      0.109485\n",
       "MiscVal         -0.021190\n",
       "MoSold           0.046432\n",
       "SaleType        -0.054911\n",
       "SaleCondition    0.213092\n",
       "Name: SalePrice, dtype: float64"
      ]
     },
     "execution_count": 17,
     "metadata": {},
     "output_type": "execute_result"
    }
   ],
   "source": [
    "cor = train_df[train_df.columns[:train_df.shape[1]]].corr(method='pearson')['SalePrice']\n",
    "cor[cor<0.25]\n",
    "# print(list(cor))"
   ]
  },
  {
   "cell_type": "markdown",
   "id": "7a67f8fd",
   "metadata": {},
   "source": [
    "### For now, lets drop colums with less than 0.25 correlation"
   ]
  },
  {
   "cell_type": "code",
   "execution_count": 18,
   "id": "8a87e566",
   "metadata": {},
   "outputs": [
    {
     "name": "stdout",
     "output_type": "stream",
     "text": [
      "percent_missing :  0.0 %\n",
      "missing_values_count :  LotArea         0\n",
      "OverallQual     0\n",
      "YearBuilt       0\n",
      "YearRemodAdd    0\n",
      "MasVnrArea      0\n",
      "Foundation      0\n",
      "BsmtFinSF1      0\n",
      "TotalBsmtSF     0\n",
      "CentralAir      0\n",
      "1stFlrSF        0\n",
      "2ndFlrSF        0\n",
      "GrLivArea       0\n",
      "FullBath        0\n",
      "HalfBath        0\n",
      "TotRmsAbvGrd    0\n",
      "Fireplaces      0\n",
      "GarageCars      0\n",
      "GarageArea      0\n",
      "WoodDeckSF      0\n",
      "OpenPorchSF     0\n",
      "SalePrice       0\n",
      "dtype: int64\n"
     ]
    }
   ],
   "source": [
    "most_related_colums = ['MSSubClass','MSZoning','LotShape','LandContour','LotConfig','LandSlope','Neighborhood','Condition1'      \n",
    ",'BldgType','HouseStyle','OverallCond','RoofStyle','Exterior1st','Exterior2nd','ExterQual' \n",
    ",'ExterCond','BsmtQual','BsmtCond','BsmtExposure','BsmtFinType1','BsmtFinType2','BsmtFinSF2'  \n",
    ",'BsmtUnfSF','Heating','HeatingQC','Electrical','LowQualFinSF','BsmtFullBath','BsmtHalfBath','BedroomAbvGr'   \n",
    ",'KitchenAbvGr','KitchenQual','Functional','GarageFinish','GarageQual','GarageCond','PavedDrive'    \n",
    ",'EnclosedPorch','3SsnPorch','ScreenPorch','PoolArea','PoolQC','Fence','MiscFeature','MiscVal'     \n",
    ",'MoSold','SaleType','SaleCondition','GarageYrBlt']\n",
    "train_df = train_df.drop(most_related_colums, axis=1)\n",
    "\n",
    "missingValues(train_df)"
   ]
  },
  {
   "cell_type": "markdown",
   "id": "defd8aea",
   "metadata": {},
   "source": [
    "### See the features that are highly related"
   ]
  },
  {
   "cell_type": "code",
   "execution_count": 19,
   "id": "a1c14b0b",
   "metadata": {},
   "outputs": [
    {
     "data": {
      "text/plain": [
       "OverallQual     0.790982\n",
       "YearBuilt       0.522897\n",
       "YearRemodAdd    0.507101\n",
       "TotalBsmtSF     0.613581\n",
       "1stFlrSF        0.605852\n",
       "GrLivArea       0.708624\n",
       "FullBath        0.560664\n",
       "TotRmsAbvGrd    0.533723\n",
       "GarageCars      0.640409\n",
       "GarageArea      0.623431\n",
       "SalePrice       1.000000\n",
       "Name: SalePrice, dtype: float64"
      ]
     },
     "execution_count": 19,
     "metadata": {},
     "output_type": "execute_result"
    }
   ],
   "source": [
    "cor[cor>0.5]"
   ]
  },
  {
   "cell_type": "markdown",
   "id": "b4a7f90d",
   "metadata": {},
   "source": [
    "## Visualising most related features "
   ]
  },
  {
   "cell_type": "code",
   "execution_count": 20,
   "id": "d525d7db",
   "metadata": {},
   "outputs": [
    {
     "data": {
      "image/png": "[encoded data removed]",
      "text/plain": [
       "<Figure size 360x360 with 1 Axes>"
      ]
     },
     "metadata": {
      "needs_background": "light"
     },
     "output_type": "display_data"
    },
    {
     "data": {
      "image/png": "[encoded data removed]",
      "text/plain": [
       "<Figure size 360x360 with 1 Axes>"
      ]
     },
     "metadata": {
      "needs_background": "light"
     },
     "output_type": "display_data"
    },
    {
     "data": {
      "image/png": "[encoded data removed]",
      "text/plain": [
       "<Figure size 360x360 with 1 Axes>"
      ]
     },
     "metadata": {
      "needs_background": "light"
     },
     "output_type": "display_data"
    },
    {
     "data": {
      "image/png": "[encoded data removed]",
      "text/plain": [
       "<Figure size 360x360 with 1 Axes>"
      ]
     },
     "metadata": {
      "needs_background": "light"
     },
     "output_type": "display_data"
    }
   ],
   "source": [
    "sns.lmplot(x=\"OverallQual\", y=\"SalePrice\", data=train_df, lowess=True);\n",
    "sns.lmplot(x=\"GrLivArea\", y=\"SalePrice\", data=train_df, lowess=True);\n",
    "sns.lmplot(x=\"GarageCars\", y=\"SalePrice\", data=train_df, lowess=True);\n",
    "sns.lmplot(x=\"GarageArea\", y=\"SalePrice\", data=train_df, lowess=True);"
   ]
  },
  {
   "cell_type": "markdown",
   "id": "0047a2aa",
   "metadata": {},
   "source": [
    "### Feature Scaling\n",
    "#### Our dataset contains numerical values with different scale. Innorder to make the model predict correctly, we need to scale all features to same range"
   ]
  },
  {
   "cell_type": "code",
   "execution_count": 21,
   "id": "7333b0ff",
   "metadata": {},
   "outputs": [
    {
     "data": {
      "text/html": [
       "<div>\n",
       "<style scoped>\n",
       "    .dataframe tbody tr th:only-of-type {\n",
       "        vertical-align: middle;\n",
       "    }\n",
       "\n",
       "    .dataframe tbody tr th {\n",
       "        vertical-align: top;\n",
       "    }\n",
       "\n",
       "    .dataframe thead th {\n",
       "        text-align: right;\n",
       "    }\n",
       "</style>\n",
       "<table border=\"1\" class=\"dataframe\">\n",
       "  <thead>\n",
       "    <tr style=\"text-align: right;\">\n",
       "      <th></th>\n",
       "      <th>LotArea</th>\n",
       "      <th>OverallQual</th>\n",
       "      <th>YearBuilt</th>\n",
       "      <th>YearRemodAdd</th>\n",
       "      <th>MasVnrArea</th>\n",
       "      <th>Foundation</th>\n",
       "      <th>BsmtFinSF1</th>\n",
       "      <th>TotalBsmtSF</th>\n",
       "      <th>CentralAir</th>\n",
       "      <th>1stFlrSF</th>\n",
       "      <th>...</th>\n",
       "      <th>GrLivArea</th>\n",
       "      <th>FullBath</th>\n",
       "      <th>HalfBath</th>\n",
       "      <th>TotRmsAbvGrd</th>\n",
       "      <th>Fireplaces</th>\n",
       "      <th>GarageCars</th>\n",
       "      <th>GarageArea</th>\n",
       "      <th>WoodDeckSF</th>\n",
       "      <th>OpenPorchSF</th>\n",
       "      <th>SalePrice</th>\n",
       "    </tr>\n",
       "  </thead>\n",
       "  <tbody>\n",
       "    <tr>\n",
       "      <th>count</th>\n",
       "      <td>1460.000000</td>\n",
       "      <td>1460.000000</td>\n",
       "      <td>1460.000000</td>\n",
       "      <td>1460.000000</td>\n",
       "      <td>1460.000000</td>\n",
       "      <td>1460.000000</td>\n",
       "      <td>1460.000000</td>\n",
       "      <td>1460.000000</td>\n",
       "      <td>1460.000000</td>\n",
       "      <td>1460.000000</td>\n",
       "      <td>...</td>\n",
       "      <td>1460.000000</td>\n",
       "      <td>1460.000000</td>\n",
       "      <td>1460.000000</td>\n",
       "      <td>1460.000000</td>\n",
       "      <td>1460.000000</td>\n",
       "      <td>1460.000000</td>\n",
       "      <td>1460.000000</td>\n",
       "      <td>1460.000000</td>\n",
       "      <td>1460.000000</td>\n",
       "      <td>1460.000000</td>\n",
       "    </tr>\n",
       "    <tr>\n",
       "      <th>mean</th>\n",
       "      <td>10516.828082</td>\n",
       "      <td>6.099315</td>\n",
       "      <td>1971.267808</td>\n",
       "      <td>1984.865753</td>\n",
       "      <td>103.117123</td>\n",
       "      <td>1.396575</td>\n",
       "      <td>443.639726</td>\n",
       "      <td>1057.429452</td>\n",
       "      <td>0.934932</td>\n",
       "      <td>1162.626712</td>\n",
       "      <td>...</td>\n",
       "      <td>1515.463699</td>\n",
       "      <td>1.565068</td>\n",
       "      <td>0.382877</td>\n",
       "      <td>6.517808</td>\n",
       "      <td>0.613014</td>\n",
       "      <td>1.767123</td>\n",
       "      <td>472.980137</td>\n",
       "      <td>94.244521</td>\n",
       "      <td>46.660274</td>\n",
       "      <td>180921.195890</td>\n",
       "    </tr>\n",
       "    <tr>\n",
       "      <th>std</th>\n",
       "      <td>9981.264932</td>\n",
       "      <td>1.382997</td>\n",
       "      <td>30.202904</td>\n",
       "      <td>20.645407</td>\n",
       "      <td>180.731373</td>\n",
       "      <td>0.722394</td>\n",
       "      <td>456.098091</td>\n",
       "      <td>438.705324</td>\n",
       "      <td>0.246731</td>\n",
       "      <td>386.587738</td>\n",
       "      <td>...</td>\n",
       "      <td>525.480383</td>\n",
       "      <td>0.550916</td>\n",
       "      <td>0.502885</td>\n",
       "      <td>1.625393</td>\n",
       "      <td>0.644666</td>\n",
       "      <td>0.747315</td>\n",
       "      <td>213.804841</td>\n",
       "      <td>125.338794</td>\n",
       "      <td>66.256028</td>\n",
       "      <td>79442.502883</td>\n",
       "    </tr>\n",
       "    <tr>\n",
       "      <th>min</th>\n",
       "      <td>1300.000000</td>\n",
       "      <td>1.000000</td>\n",
       "      <td>1872.000000</td>\n",
       "      <td>1950.000000</td>\n",
       "      <td>0.000000</td>\n",
       "      <td>0.000000</td>\n",
       "      <td>0.000000</td>\n",
       "      <td>0.000000</td>\n",
       "      <td>0.000000</td>\n",
       "      <td>334.000000</td>\n",
       "      <td>...</td>\n",
       "      <td>334.000000</td>\n",
       "      <td>0.000000</td>\n",
       "      <td>0.000000</td>\n",
       "      <td>2.000000</td>\n",
       "      <td>0.000000</td>\n",
       "      <td>0.000000</td>\n",
       "      <td>0.000000</td>\n",
       "      <td>0.000000</td>\n",
       "      <td>0.000000</td>\n",
       "      <td>34900.000000</td>\n",
       "    </tr>\n",
       "    <tr>\n",
       "      <th>25%</th>\n",
       "      <td>7553.500000</td>\n",
       "      <td>5.000000</td>\n",
       "      <td>1954.000000</td>\n",
       "      <td>1967.000000</td>\n",
       "      <td>0.000000</td>\n",
       "      <td>1.000000</td>\n",
       "      <td>0.000000</td>\n",
       "      <td>795.750000</td>\n",
       "      <td>1.000000</td>\n",
       "      <td>882.000000</td>\n",
       "      <td>...</td>\n",
       "      <td>1129.500000</td>\n",
       "      <td>1.000000</td>\n",
       "      <td>0.000000</td>\n",
       "      <td>5.000000</td>\n",
       "      <td>0.000000</td>\n",
       "      <td>1.000000</td>\n",
       "      <td>334.500000</td>\n",
       "      <td>0.000000</td>\n",
       "      <td>0.000000</td>\n",
       "      <td>129975.000000</td>\n",
       "    </tr>\n",
       "    <tr>\n",
       "      <th>50%</th>\n",
       "      <td>9478.500000</td>\n",
       "      <td>6.000000</td>\n",
       "      <td>1973.000000</td>\n",
       "      <td>1994.000000</td>\n",
       "      <td>0.000000</td>\n",
       "      <td>1.000000</td>\n",
       "      <td>383.500000</td>\n",
       "      <td>991.500000</td>\n",
       "      <td>1.000000</td>\n",
       "      <td>1087.000000</td>\n",
       "      <td>...</td>\n",
       "      <td>1464.000000</td>\n",
       "      <td>2.000000</td>\n",
       "      <td>0.000000</td>\n",
       "      <td>6.000000</td>\n",
       "      <td>1.000000</td>\n",
       "      <td>2.000000</td>\n",
       "      <td>480.000000</td>\n",
       "      <td>0.000000</td>\n",
       "      <td>25.000000</td>\n",
       "      <td>163000.000000</td>\n",
       "    </tr>\n",
       "    <tr>\n",
       "      <th>75%</th>\n",
       "      <td>11601.500000</td>\n",
       "      <td>7.000000</td>\n",
       "      <td>2000.000000</td>\n",
       "      <td>2004.000000</td>\n",
       "      <td>164.250000</td>\n",
       "      <td>2.000000</td>\n",
       "      <td>712.250000</td>\n",
       "      <td>1298.250000</td>\n",
       "      <td>1.000000</td>\n",
       "      <td>1391.250000</td>\n",
       "      <td>...</td>\n",
       "      <td>1776.750000</td>\n",
       "      <td>2.000000</td>\n",
       "      <td>1.000000</td>\n",
       "      <td>7.000000</td>\n",
       "      <td>1.000000</td>\n",
       "      <td>2.000000</td>\n",
       "      <td>576.000000</td>\n",
       "      <td>168.000000</td>\n",
       "      <td>68.000000</td>\n",
       "      <td>214000.000000</td>\n",
       "    </tr>\n",
       "    <tr>\n",
       "      <th>max</th>\n",
       "      <td>215245.000000</td>\n",
       "      <td>10.000000</td>\n",
       "      <td>2010.000000</td>\n",
       "      <td>2010.000000</td>\n",
       "      <td>1600.000000</td>\n",
       "      <td>5.000000</td>\n",
       "      <td>5644.000000</td>\n",
       "      <td>6110.000000</td>\n",
       "      <td>1.000000</td>\n",
       "      <td>4692.000000</td>\n",
       "      <td>...</td>\n",
       "      <td>5642.000000</td>\n",
       "      <td>3.000000</td>\n",
       "      <td>2.000000</td>\n",
       "      <td>14.000000</td>\n",
       "      <td>3.000000</td>\n",
       "      <td>4.000000</td>\n",
       "      <td>1418.000000</td>\n",
       "      <td>857.000000</td>\n",
       "      <td>547.000000</td>\n",
       "      <td>755000.000000</td>\n",
       "    </tr>\n",
       "  </tbody>\n",
       "</table>\n",
       "<p>8 rows × 21 columns</p>\n",
       "</div>"
      ],
      "text/plain": [
       "             LotArea  OverallQual    YearBuilt  YearRemodAdd   MasVnrArea  \\\n",
       "count    1460.000000  1460.000000  1460.000000   1460.000000  1460.000000   \n",
       "mean    10516.828082     6.099315  1971.267808   1984.865753   103.117123   \n",
       "std      9981.264932     1.382997    30.202904     20.645407   180.731373   \n",
       "min      1300.000000     1.000000  1872.000000   1950.000000     0.000000   \n",
       "25%      7553.500000     5.000000  1954.000000   1967.000000     0.000000   \n",
       "50%      9478.500000     6.000000  1973.000000   1994.000000     0.000000   \n",
       "75%     11601.500000     7.000000  2000.000000   2004.000000   164.250000   \n",
       "max    215245.000000    10.000000  2010.000000   2010.000000  1600.000000   \n",
       "\n",
       "        Foundation   BsmtFinSF1  TotalBsmtSF   CentralAir     1stFlrSF  ...  \\\n",
       "count  1460.000000  1460.000000  1460.000000  1460.000000  1460.000000  ...   \n",
       "mean      1.396575   443.639726  1057.429452     0.934932  1162.626712  ...   \n",
       "std       0.722394   456.098091   438.705324     0.246731   386.587738  ...   \n",
       "min       0.000000     0.000000     0.000000     0.000000   334.000000  ...   \n",
       "25%       1.000000     0.000000   795.750000     1.000000   882.000000  ...   \n",
       "50%       1.000000   383.500000   991.500000     1.000000  1087.000000  ...   \n",
       "75%       2.000000   712.250000  1298.250000     1.000000  1391.250000  ...   \n",
       "max       5.000000  5644.000000  6110.000000     1.000000  4692.000000  ...   \n",
       "\n",
       "         GrLivArea     FullBath     HalfBath  TotRmsAbvGrd   Fireplaces  \\\n",
       "count  1460.000000  1460.000000  1460.000000   1460.000000  1460.000000   \n",
       "mean   1515.463699     1.565068     0.382877      6.517808     0.613014   \n",
       "std     525.480383     0.550916     0.502885      1.625393     0.644666   \n",
       "min     334.000000     0.000000     0.000000      2.000000     0.000000   \n",
       "25%    1129.500000     1.000000     0.000000      5.000000     0.000000   \n",
       "50%    1464.000000     2.000000     0.000000      6.000000     1.000000   \n",
       "75%    1776.750000     2.000000     1.000000      7.000000     1.000000   \n",
       "max    5642.000000     3.000000     2.000000     14.000000     3.000000   \n",
       "\n",
       "        GarageCars   GarageArea   WoodDeckSF  OpenPorchSF      SalePrice  \n",
       "count  1460.000000  1460.000000  1460.000000  1460.000000    1460.000000  \n",
       "mean      1.767123   472.980137    94.244521    46.660274  180921.195890  \n",
       "std       0.747315   213.804841   125.338794    66.256028   79442.502883  \n",
       "min       0.000000     0.000000     0.000000     0.000000   34900.000000  \n",
       "25%       1.000000   334.500000     0.000000     0.000000  129975.000000  \n",
       "50%       2.000000   480.000000     0.000000    25.000000  163000.000000  \n",
       "75%       2.000000   576.000000   168.000000    68.000000  214000.000000  \n",
       "max       4.000000  1418.000000   857.000000   547.000000  755000.000000  \n",
       "\n",
       "[8 rows x 21 columns]"
      ]
     },
     "execution_count": 21,
     "metadata": {},
     "output_type": "execute_result"
    }
   ],
   "source": [
    "train_df.describe()"
   ]
  },
  {
   "cell_type": "code",
   "execution_count": 22,
   "id": "2a58fa9e",
   "metadata": {},
   "outputs": [],
   "source": [
    "train_y = train_df['SalePrice']\n",
    "train_X = train_df.drop(['SalePrice'], axis = 1)\n"
   ]
  },
  {
   "cell_type": "code",
   "execution_count": 23,
   "id": "59187be5",
   "metadata": {},
   "outputs": [
    {
     "name": "stdout",
     "output_type": "stream",
     "text": [
      "(1460,)\n",
      "(1460, 20)\n"
     ]
    }
   ],
   "source": [
    "print(train_y.shape)\n",
    "print(train_X.shape)"
   ]
  },
  {
   "cell_type": "code",
   "execution_count": 24,
   "id": "a8460973",
   "metadata": {},
   "outputs": [
    {
     "data": {
      "text/html": [
       "<div>\n",
       "<style scoped>\n",
       "    .dataframe tbody tr th:only-of-type {\n",
       "        vertical-align: middle;\n",
       "    }\n",
       "\n",
       "    .dataframe tbody tr th {\n",
       "        vertical-align: top;\n",
       "    }\n",
       "\n",
       "    .dataframe thead th {\n",
       "        text-align: right;\n",
       "    }\n",
       "</style>\n",
       "<table border=\"1\" class=\"dataframe\">\n",
       "  <thead>\n",
       "    <tr style=\"text-align: right;\">\n",
       "      <th></th>\n",
       "      <th>LotArea</th>\n",
       "      <th>OverallQual</th>\n",
       "      <th>YearBuilt</th>\n",
       "      <th>YearRemodAdd</th>\n",
       "      <th>MasVnrArea</th>\n",
       "      <th>Foundation</th>\n",
       "      <th>BsmtFinSF1</th>\n",
       "      <th>TotalBsmtSF</th>\n",
       "      <th>CentralAir</th>\n",
       "      <th>1stFlrSF</th>\n",
       "      <th>2ndFlrSF</th>\n",
       "      <th>GrLivArea</th>\n",
       "      <th>FullBath</th>\n",
       "      <th>HalfBath</th>\n",
       "      <th>TotRmsAbvGrd</th>\n",
       "      <th>Fireplaces</th>\n",
       "      <th>GarageCars</th>\n",
       "      <th>GarageArea</th>\n",
       "      <th>WoodDeckSF</th>\n",
       "      <th>OpenPorchSF</th>\n",
       "    </tr>\n",
       "  </thead>\n",
       "  <tbody>\n",
       "    <tr>\n",
       "      <th>count</th>\n",
       "      <td>1460.000000</td>\n",
       "      <td>1460.000000</td>\n",
       "      <td>1460.000000</td>\n",
       "      <td>1460.000000</td>\n",
       "      <td>1460.000000</td>\n",
       "      <td>1460.000000</td>\n",
       "      <td>1460.000000</td>\n",
       "      <td>1460.000000</td>\n",
       "      <td>1460.000000</td>\n",
       "      <td>1460.000000</td>\n",
       "      <td>1460.000000</td>\n",
       "      <td>1460.000000</td>\n",
       "      <td>1460.000000</td>\n",
       "      <td>1460.000000</td>\n",
       "      <td>1460.000000</td>\n",
       "      <td>1460.000000</td>\n",
       "      <td>1460.000000</td>\n",
       "      <td>1460.000000</td>\n",
       "      <td>1460.000000</td>\n",
       "      <td>1460.000000</td>\n",
       "    </tr>\n",
       "    <tr>\n",
       "      <th>mean</th>\n",
       "      <td>0.043080</td>\n",
       "      <td>0.566591</td>\n",
       "      <td>0.719332</td>\n",
       "      <td>0.581096</td>\n",
       "      <td>0.064448</td>\n",
       "      <td>0.279315</td>\n",
       "      <td>0.078604</td>\n",
       "      <td>0.173065</td>\n",
       "      <td>0.934932</td>\n",
       "      <td>0.190139</td>\n",
       "      <td>0.168035</td>\n",
       "      <td>0.222582</td>\n",
       "      <td>0.521689</td>\n",
       "      <td>0.191438</td>\n",
       "      <td>0.376484</td>\n",
       "      <td>0.204338</td>\n",
       "      <td>0.441781</td>\n",
       "      <td>0.333554</td>\n",
       "      <td>0.109970</td>\n",
       "      <td>0.085302</td>\n",
       "    </tr>\n",
       "    <tr>\n",
       "      <th>std</th>\n",
       "      <td>0.046653</td>\n",
       "      <td>0.153666</td>\n",
       "      <td>0.218862</td>\n",
       "      <td>0.344090</td>\n",
       "      <td>0.112957</td>\n",
       "      <td>0.144479</td>\n",
       "      <td>0.080811</td>\n",
       "      <td>0.071801</td>\n",
       "      <td>0.246731</td>\n",
       "      <td>0.088708</td>\n",
       "      <td>0.211394</td>\n",
       "      <td>0.098998</td>\n",
       "      <td>0.183639</td>\n",
       "      <td>0.251443</td>\n",
       "      <td>0.135449</td>\n",
       "      <td>0.214889</td>\n",
       "      <td>0.186829</td>\n",
       "      <td>0.150779</td>\n",
       "      <td>0.146253</td>\n",
       "      <td>0.121126</td>\n",
       "    </tr>\n",
       "    <tr>\n",
       "      <th>min</th>\n",
       "      <td>0.000000</td>\n",
       "      <td>0.000000</td>\n",
       "      <td>0.000000</td>\n",
       "      <td>0.000000</td>\n",
       "      <td>0.000000</td>\n",
       "      <td>0.000000</td>\n",
       "      <td>0.000000</td>\n",
       "      <td>0.000000</td>\n",
       "      <td>0.000000</td>\n",
       "      <td>0.000000</td>\n",
       "      <td>0.000000</td>\n",
       "      <td>0.000000</td>\n",
       "      <td>0.000000</td>\n",
       "      <td>0.000000</td>\n",
       "      <td>0.000000</td>\n",
       "      <td>0.000000</td>\n",
       "      <td>0.000000</td>\n",
       "      <td>0.000000</td>\n",
       "      <td>0.000000</td>\n",
       "      <td>0.000000</td>\n",
       "    </tr>\n",
       "    <tr>\n",
       "      <th>25%</th>\n",
       "      <td>0.029229</td>\n",
       "      <td>0.444444</td>\n",
       "      <td>0.594203</td>\n",
       "      <td>0.283333</td>\n",
       "      <td>0.000000</td>\n",
       "      <td>0.200000</td>\n",
       "      <td>0.000000</td>\n",
       "      <td>0.130237</td>\n",
       "      <td>1.000000</td>\n",
       "      <td>0.125746</td>\n",
       "      <td>0.000000</td>\n",
       "      <td>0.149868</td>\n",
       "      <td>0.333333</td>\n",
       "      <td>0.000000</td>\n",
       "      <td>0.250000</td>\n",
       "      <td>0.000000</td>\n",
       "      <td>0.250000</td>\n",
       "      <td>0.235896</td>\n",
       "      <td>0.000000</td>\n",
       "      <td>0.000000</td>\n",
       "    </tr>\n",
       "    <tr>\n",
       "      <th>50%</th>\n",
       "      <td>0.038227</td>\n",
       "      <td>0.555556</td>\n",
       "      <td>0.731884</td>\n",
       "      <td>0.733333</td>\n",
       "      <td>0.000000</td>\n",
       "      <td>0.200000</td>\n",
       "      <td>0.067948</td>\n",
       "      <td>0.162275</td>\n",
       "      <td>1.000000</td>\n",
       "      <td>0.172786</td>\n",
       "      <td>0.000000</td>\n",
       "      <td>0.212886</td>\n",
       "      <td>0.666667</td>\n",
       "      <td>0.000000</td>\n",
       "      <td>0.333333</td>\n",
       "      <td>0.333333</td>\n",
       "      <td>0.500000</td>\n",
       "      <td>0.338505</td>\n",
       "      <td>0.000000</td>\n",
       "      <td>0.045704</td>\n",
       "    </tr>\n",
       "    <tr>\n",
       "      <th>75%</th>\n",
       "      <td>0.048150</td>\n",
       "      <td>0.666667</td>\n",
       "      <td>0.927536</td>\n",
       "      <td>0.900000</td>\n",
       "      <td>0.102656</td>\n",
       "      <td>0.400000</td>\n",
       "      <td>0.126196</td>\n",
       "      <td>0.212480</td>\n",
       "      <td>1.000000</td>\n",
       "      <td>0.242600</td>\n",
       "      <td>0.352542</td>\n",
       "      <td>0.271807</td>\n",
       "      <td>0.666667</td>\n",
       "      <td>0.500000</td>\n",
       "      <td>0.416667</td>\n",
       "      <td>0.333333</td>\n",
       "      <td>0.500000</td>\n",
       "      <td>0.406206</td>\n",
       "      <td>0.196033</td>\n",
       "      <td>0.124314</td>\n",
       "    </tr>\n",
       "    <tr>\n",
       "      <th>max</th>\n",
       "      <td>1.000000</td>\n",
       "      <td>1.000000</td>\n",
       "      <td>1.000000</td>\n",
       "      <td>1.000000</td>\n",
       "      <td>1.000000</td>\n",
       "      <td>1.000000</td>\n",
       "      <td>1.000000</td>\n",
       "      <td>1.000000</td>\n",
       "      <td>1.000000</td>\n",
       "      <td>1.000000</td>\n",
       "      <td>1.000000</td>\n",
       "      <td>1.000000</td>\n",
       "      <td>1.000000</td>\n",
       "      <td>1.000000</td>\n",
       "      <td>1.000000</td>\n",
       "      <td>1.000000</td>\n",
       "      <td>1.000000</td>\n",
       "      <td>1.000000</td>\n",
       "      <td>1.000000</td>\n",
       "      <td>1.000000</td>\n",
       "    </tr>\n",
       "  </tbody>\n",
       "</table>\n",
       "</div>"
      ],
      "text/plain": [
       "           LotArea  OverallQual    YearBuilt  YearRemodAdd   MasVnrArea  \\\n",
       "count  1460.000000  1460.000000  1460.000000   1460.000000  1460.000000   \n",
       "mean      0.043080     0.566591     0.719332      0.581096     0.064448   \n",
       "std       0.046653     0.153666     0.218862      0.344090     0.112957   \n",
       "min       0.000000     0.000000     0.000000      0.000000     0.000000   \n",
       "25%       0.029229     0.444444     0.594203      0.283333     0.000000   \n",
       "50%       0.038227     0.555556     0.731884      0.733333     0.000000   \n",
       "75%       0.048150     0.666667     0.927536      0.900000     0.102656   \n",
       "max       1.000000     1.000000     1.000000      1.000000     1.000000   \n",
       "\n",
       "        Foundation   BsmtFinSF1  TotalBsmtSF   CentralAir     1stFlrSF  \\\n",
       "count  1460.000000  1460.000000  1460.000000  1460.000000  1460.000000   \n",
       "mean      0.279315     0.078604     0.173065     0.934932     0.190139   \n",
       "std       0.144479     0.080811     0.071801     0.246731     0.088708   \n",
       "min       0.000000     0.000000     0.000000     0.000000     0.000000   \n",
       "25%       0.200000     0.000000     0.130237     1.000000     0.125746   \n",
       "50%       0.200000     0.067948     0.162275     1.000000     0.172786   \n",
       "75%       0.400000     0.126196     0.212480     1.000000     0.242600   \n",
       "max       1.000000     1.000000     1.000000     1.000000     1.000000   \n",
       "\n",
       "          2ndFlrSF    GrLivArea     FullBath     HalfBath  TotRmsAbvGrd  \\\n",
       "count  1460.000000  1460.000000  1460.000000  1460.000000   1460.000000   \n",
       "mean      0.168035     0.222582     0.521689     0.191438      0.376484   \n",
       "std       0.211394     0.098998     0.183639     0.251443      0.135449   \n",
       "min       0.000000     0.000000     0.000000     0.000000      0.000000   \n",
       "25%       0.000000     0.149868     0.333333     0.000000      0.250000   \n",
       "50%       0.000000     0.212886     0.666667     0.000000      0.333333   \n",
       "75%       0.352542     0.271807     0.666667     0.500000      0.416667   \n",
       "max       1.000000     1.000000     1.000000     1.000000      1.000000   \n",
       "\n",
       "        Fireplaces   GarageCars   GarageArea   WoodDeckSF  OpenPorchSF  \n",
       "count  1460.000000  1460.000000  1460.000000  1460.000000  1460.000000  \n",
       "mean      0.204338     0.441781     0.333554     0.109970     0.085302  \n",
       "std       0.214889     0.186829     0.150779     0.146253     0.121126  \n",
       "min       0.000000     0.000000     0.000000     0.000000     0.000000  \n",
       "25%       0.000000     0.250000     0.235896     0.000000     0.000000  \n",
       "50%       0.333333     0.500000     0.338505     0.000000     0.045704  \n",
       "75%       0.333333     0.500000     0.406206     0.196033     0.124314  \n",
       "max       1.000000     1.000000     1.000000     1.000000     1.000000  "
      ]
     },
     "execution_count": 24,
     "metadata": {},
     "output_type": "execute_result"
    }
   ],
   "source": [
    "from sklearn.preprocessing import MinMaxScaler\n",
    "\n",
    "scalar = MinMaxScaler(copy=True)\n",
    "columns = train_X.columns\n",
    "train_X[columns] = scalar.fit_transform(train_X[columns])\n",
    "train_X.describe()\n"
   ]
  },
  {
   "cell_type": "code",
   "execution_count": 25,
   "id": "fc304028",
   "metadata": {},
   "outputs": [
    {
     "name": "stdout",
     "output_type": "stream",
     "text": [
      "0       208500\n",
      "1       181500\n",
      "2       223500\n",
      "3       140000\n",
      "4       250000\n",
      "         ...  \n",
      "1455    175000\n",
      "1456    210000\n",
      "1457    266500\n",
      "1458    142125\n",
      "1459    147500\n",
      "Name: SalePrice, Length: 1460, dtype: int64\n"
     ]
    }
   ],
   "source": [
    "print(train_y)"
   ]
  },
  {
   "cell_type": "code",
   "execution_count": 26,
   "id": "bc2a23e2",
   "metadata": {},
   "outputs": [],
   "source": [
    "train_y= train_y/1000000"
   ]
  },
  {
   "cell_type": "code",
   "execution_count": 27,
   "id": "0cdd6dab",
   "metadata": {},
   "outputs": [
    {
     "data": {
      "text/plain": [
       "0       0.208500\n",
       "1       0.181500\n",
       "2       0.223500\n",
       "3       0.140000\n",
       "4       0.250000\n",
       "          ...   \n",
       "1455    0.175000\n",
       "1456    0.210000\n",
       "1457    0.266500\n",
       "1458    0.142125\n",
       "1459    0.147500\n",
       "Name: SalePrice, Length: 1460, dtype: float64"
      ]
     },
     "execution_count": 27,
     "metadata": {},
     "output_type": "execute_result"
    }
   ],
   "source": [
    "train_y"
   ]
  },
  {
   "cell_type": "markdown",
   "id": "b17b8234",
   "metadata": {},
   "source": [
    "### Analysing and preprocessing of test dataset"
   ]
  },
  {
   "cell_type": "code",
   "execution_count": 28,
   "id": "06e7b7c2",
   "metadata": {},
   "outputs": [
    {
     "name": "stdout",
     "output_type": "stream",
     "text": [
      "percent_missing :  5.9972583961617545 %\n",
      "missing_values_count :  Id                 0\n",
      "MSSubClass         0\n",
      "MSZoning           4\n",
      "LotFrontage      227\n",
      "LotArea            0\n",
      "                ... \n",
      "MiscVal            0\n",
      "MoSold             0\n",
      "YrSold             0\n",
      "SaleType           1\n",
      "SaleCondition      0\n",
      "Length: 80, dtype: int64\n"
     ]
    }
   ],
   "source": [
    "missingValues(test_X)"
   ]
  },
  {
   "cell_type": "code",
   "execution_count": 29,
   "id": "a590c8ad",
   "metadata": {},
   "outputs": [],
   "source": [
    "def preprocess_testData(test_X):\n",
    "    test_X = test_X.drop(['GarageType','Street','Condition2','MasVnrType','RoofMatl','Id', 'Alley','LotFrontage','FireplaceQu','YrSold','Utilities'], axis=1)\n",
    "\n",
    "    test_X['Electrical'].fillna(test_X['Electrical'].value_counts().idxmax(), inplace=True)\n",
    "    test_X['BsmtQual'].fillna(test_X['BsmtQual'].value_counts().idxmax(), inplace=True)\n",
    "    test_X['BsmtCond'].fillna(test_X['BsmtCond'].value_counts().idxmax(), inplace=True)\n",
    "    test_X['BsmtExposure'].fillna(test_X['BsmtExposure'].value_counts().idxmax(), inplace=True)\n",
    "    test_X['BsmtFinType1'].fillna(test_X['BsmtFinType1'].value_counts().idxmax(), inplace=True)\n",
    "    test_X['BsmtFinType2'].fillna(test_X['BsmtFinType2'].value_counts().idxmax(), inplace=True)\n",
    "    test_X['MasVnrArea'].fillna(test_X['MasVnrArea'].value_counts().idxmax(), inplace=True)\n",
    "    test_X['BsmtFinSF1'].fillna(test_X['BsmtFinSF1'].value_counts().idxmax(), inplace=True)\n",
    "    test_X['TotalBsmtSF'].fillna(test_X['TotalBsmtSF'].value_counts().idxmax(), inplace=True)\n",
    "    test_X['GarageCars'].fillna(test_X['GarageCars'].value_counts().idxmax(), inplace=True)\n",
    "    test_X['GarageArea'].fillna(test_X['GarageArea'].value_counts().idxmax(), inplace=True)\n",
    "\n",
    "\n",
    "\n",
    "\n",
    "\n",
    "    categorical_colums = list(set(test_X.columns)-set(test_X._get_numeric_data().columns))\n",
    "    enc = OrdinalEncoder()\n",
    "    test_X[categorical_colums] = enc.fit_transform(test_X[categorical_colums])\n",
    "    \n",
    "    most_related_colums = ['MSSubClass','MSZoning','LotShape','LandContour','LotConfig','LandSlope','Neighborhood','Condition1'      \n",
    "    ,'BldgType','HouseStyle','OverallCond','RoofStyle','Exterior1st','Exterior2nd','ExterQual' \n",
    "    ,'ExterCond','BsmtQual','BsmtCond','BsmtExposure','BsmtFinType1','BsmtFinType2','BsmtFinSF2'  \n",
    "    ,'BsmtUnfSF','Heating','HeatingQC','Electrical','LowQualFinSF','BsmtFullBath','BsmtHalfBath','BedroomAbvGr'   \n",
    "    ,'KitchenAbvGr','KitchenQual','Functional','GarageFinish','GarageQual','GarageCond','PavedDrive'    \n",
    "    ,'EnclosedPorch','3SsnPorch','ScreenPorch','PoolArea','PoolQC','Fence','MiscFeature','MiscVal'     \n",
    "    ,'MoSold','SaleType','SaleCondition','GarageYrBlt']\n",
    "    test_X = test_X.drop(most_related_colums, axis=1)\n",
    "    \n",
    "    scalar = MinMaxScaler(copy=True)\n",
    "    columns = test_X.columns\n",
    "    test_X[columns] = scalar.fit_transform(test_X[columns])\n",
    "\n",
    "\n",
    "    return test_X\n",
    "\n",
    "\n",
    "test_X = preprocess_testData(test_X)\n",
    "\n"
   ]
  },
  {
   "cell_type": "markdown",
   "id": "7129353e",
   "metadata": {},
   "source": [
    "## Model training and evaluation"
   ]
  },
  {
   "cell_type": "markdown",
   "id": "b38f355d",
   "metadata": {},
   "source": [
    "### Model 1: RandomForestRegressor"
   ]
  },
  {
   "cell_type": "code",
   "execution_count": 30,
   "id": "1b56353d",
   "metadata": {},
   "outputs": [
    {
     "data": {
      "text/plain": [
       "array([133699.69760242, 140267.84331452, 148541.58456411, ...,\n",
       "       135650.18632291, 133699.69760242, 202666.17442414])"
      ]
     },
     "execution_count": 30,
     "metadata": {},
     "output_type": "execute_result"
    }
   ],
   "source": [
    "from sklearn.ensemble import RandomForestRegressor\n",
    "from sklearn.datasets import make_regression\n",
    "\n",
    "RandomForestRegressor_model = RandomForestRegressor(max_depth=2, random_state=0)\n",
    "\n",
    "\n",
    "RandomForestRegressor_model.fit(train_X, train_y)\n",
    "model_1_prediction = RandomForestRegressor_model.predict(test_X)*1000000\n",
    "model_1_prediction"
   ]
  },
  {
   "cell_type": "markdown",
   "id": "e0c61756",
   "metadata": {},
   "source": [
    "### Model 2: GradientBoostingRegressor"
   ]
  },
  {
   "cell_type": "code",
   "execution_count": 33,
   "id": "48213794",
   "metadata": {},
   "outputs": [
    {
     "data": {
      "text/plain": [
       "array([175588.27867535, 175588.27867535, 179449.74835491, ...,\n",
       "       175588.27867535, 175588.27867535, 187418.69587177])"
      ]
     },
     "execution_count": 33,
     "metadata": {},
     "output_type": "execute_result"
    }
   ],
   "source": [
    "from sklearn.datasets import make_regression\n",
    "from sklearn.ensemble import GradientBoostingRegressor\n",
    "from sklearn.model_selection import train_test_split\n",
    "\n",
    "GradientBoostingRegressor_model = GradientBoostingRegressor(learning_rate=0.001, n_estimators=100,random_state=0)\n",
    "GradientBoostingRegressor_model.fit(train_X, train_y)\n",
    "\n",
    "model_2_prediction = GradientBoostingRegressor_model.predict(test_X)*1000000\n",
    "model_2_prediction"
   ]
  },
  {
   "cell_type": "markdown",
   "id": "e8d5ea38",
   "metadata": {},
   "source": [
    "## Model Evaluation"
   ]
  },
  {
   "cell_type": "code",
   "execution_count": 34,
   "id": "b563af0f",
   "metadata": {},
   "outputs": [],
   "source": [
    "from sklearn.metrics import mean_squared_log_error\n",
    "\n",
    "def compute_rmsle(y_test: np.ndarray, y_pred: np.ndarray, precision: int = 2) -> float:\n",
    "    rmsle = np.sqrt(mean_squared_log_error(y_test, y_pred))\n",
    "    return round(rmsle, precision)\n",
    "\n"
   ]
  },
  {
   "cell_type": "code",
   "execution_count": 35,
   "id": "7a7b0f06",
   "metadata": {},
   "outputs": [
    {
     "name": "stdout",
     "output_type": "stream",
     "text": [
      "mean_squared_log_error of Model 1:  0.29\n",
      "mean_squared_log_error of Model 2:  0.09\n"
     ]
    }
   ],
   "source": [
    "rmsle_model1 = compute_rmsle(test_y['SalePrice'],model_1_prediction)\n",
    "rmsle_model2 = compute_rmsle(test_y['SalePrice'],model_2_prediction)\n",
    "\n",
    "print(\"mean_squared_log_error of Model 1: \", rmsle_model1)\n",
    "print(\"mean_squared_log_error of Model 2: \", rmsle_model2)"
   ]
  },
  {
   "cell_type": "code",
   "execution_count": 36,
   "id": "0fb5e314",
   "metadata": {},
   "outputs": [],
   "source": [
    "\n",
    "output = pd.DataFrame({'Id': test_y['Id'],'SalePrice': rmsle_model2})\n",
    "output.to_csv('submission.csv', index=False)"
   ]
  },
  {
   "cell_type": "code",
   "execution_count": null,
   "id": "d9ec084c",
   "metadata": {},
   "outputs": [],
   "source": []
  }
 ],
 "metadata": {
  "kernelspec": {
   "display_name": "Python 3 (ipykernel)",
   "language": "python",
   "name": "python3"
  },
  "language_info": {
   "codemirror_mode": {
    "name": "ipython",
    "version": 3
   },
   "file_extension": ".py",
   "mimetype": "text/x-python",
   "name": "python",
   "nbconvert_exporter": "python",
   "pygments_lexer": "ipython3",
   "version": "3.9.7"
  }
 },
 "nbformat": 4,
 "nbformat_minor": 5
}
